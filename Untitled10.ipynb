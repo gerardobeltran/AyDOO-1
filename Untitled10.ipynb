{
  "nbformat": 4,
  "nbformat_minor": 0,
  "metadata": {
    "colab": {
      "name": "Untitled10.ipynb",
      "provenance": [],
      "authorship_tag": "ABX9TyMYx30kPq3qz8C8n6eLxiUA",
      "include_colab_link": true
    },
    "kernelspec": {
      "name": "ir",
      "display_name": "R"
    },
    "language_info": {
      "name": "R"
    }
  },
  "cells": [
    {
      "cell_type": "markdown",
      "metadata": {
        "id": "view-in-github",
        "colab_type": "text"
      },
      "source": [
        "<a href=\"https://colab.research.google.com/github/gerardobeltran/AyDOO-1/blob/master/Untitled10.ipynb\" target=\"_parent\"><img src=\"https://colab.research.google.com/assets/colab-badge.svg\" alt=\"Open In Colab\"/></a>"
      ]
    },
    {
      "cell_type": "markdown",
      "metadata": {
        "id": "-3izHRQ34-3g"
      },
      "source": [
        "# Lectura de datos de un archivo"
      ]
    },
    {
      "cell_type": "code",
      "metadata": {
        "id": "e6bR66SN2BWE"
      },
      "source": [
        "municipios = read.table(\"municipios.csv\", header=T, sep=\",\")"
      ],
      "execution_count": null,
      "outputs": []
    },
    {
      "cell_type": "code",
      "metadata": {
        "id": "9UySZ-EL3yif"
      },
      "source": [
        "rownames(municipios) ="
      ],
      "execution_count": null,
      "outputs": []
    },
    {
      "cell_type": "code",
      "metadata": {
        "id": "7Hqylfmm4I9G"
      },
      "source": [
        "municipios = municipios[,c(\"poblacion\", \"superficie\")]"
      ],
      "execution_count": null,
      "outputs": []
    },
    {
      "cell_type": "code",
      "metadata": {
        "colab": {
          "base_uri": "https://localhost:8080/",
          "height": 655
        },
        "id": "z2OeNkAa4Ual",
        "outputId": "3a935807-60ea-4a4c-bf04-9daf1afb2e8e"
      },
      "source": [
        "municipios"
      ],
      "execution_count": null,
      "outputs": [
        {
          "output_type": "display_data",
          "data": {
            "text/plain": [
              "                  poblacion superficie\n",
              "Ahome             416299    4342      \n",
              "Angostura          44993    1447      \n",
              "Badiraguato        29999    5864      \n",
              "Concordia          28493    1524      \n",
              "Cosalá             16697    2665      \n",
              "Culiacán          858638    4758      \n",
              "Choix              32998    4512      \n",
              "Elota              42907    1518      \n",
              "Escuinapa          54131    1633      \n",
              "El Fuerte          97536    3843      \n",
              "Guasave           285912    3464      \n",
              "Mazatlán          438434    3068      \n",
              "Mocorito           45847    2566      \n",
              "Rosario            49380    2723      \n",
              "Salvador Alvarado  79085    1197      \n",
              "San Ignacio        22527    4650      \n",
              "Sinaloa            88282    6186      \n",
              "Navolato          135603    2285      "
            ],
            "text/latex": "A data.frame: 18 × 2\n\\begin{tabular}{r|ll}\n  & poblacion & superficie\\\\\n  & <int> & <int>\\\\\n\\hline\n\tAhome & 416299 & 4342\\\\\n\tAngostura &  44993 & 1447\\\\\n\tBadiraguato &  29999 & 5864\\\\\n\tConcordia &  28493 & 1524\\\\\n\tCosalá &  16697 & 2665\\\\\n\tCuliacán & 858638 & 4758\\\\\n\tChoix &  32998 & 4512\\\\\n\tElota &  42907 & 1518\\\\\n\tEscuinapa &  54131 & 1633\\\\\n\tEl Fuerte &  97536 & 3843\\\\\n\tGuasave & 285912 & 3464\\\\\n\tMazatlán & 438434 & 3068\\\\\n\tMocorito &  45847 & 2566\\\\\n\tRosario &  49380 & 2723\\\\\n\tSalvador Alvarado &  79085 & 1197\\\\\n\tSan Ignacio &  22527 & 4650\\\\\n\tSinaloa &  88282 & 6186\\\\\n\tNavolato & 135603 & 2285\\\\\n\\end{tabular}\n",
            "text/markdown": "\nA data.frame: 18 × 2\n\n| <!--/--> | poblacion &lt;int&gt; | superficie &lt;int&gt; |\n|---|---|---|\n| Ahome | 416299 | 4342 |\n| Angostura |  44993 | 1447 |\n| Badiraguato |  29999 | 5864 |\n| Concordia |  28493 | 1524 |\n| Cosalá |  16697 | 2665 |\n| Culiacán | 858638 | 4758 |\n| Choix |  32998 | 4512 |\n| Elota |  42907 | 1518 |\n| Escuinapa |  54131 | 1633 |\n| El Fuerte |  97536 | 3843 |\n| Guasave | 285912 | 3464 |\n| Mazatlán | 438434 | 3068 |\n| Mocorito |  45847 | 2566 |\n| Rosario |  49380 | 2723 |\n| Salvador Alvarado |  79085 | 1197 |\n| San Ignacio |  22527 | 4650 |\n| Sinaloa |  88282 | 6186 |\n| Navolato | 135603 | 2285 |\n\n",
            "text/html": [
              "<table class=\"dataframe\">\n",
              "<caption>A data.frame: 18 × 2</caption>\n",
              "<thead>\n",
              "\t<tr><th></th><th scope=col>poblacion</th><th scope=col>superficie</th></tr>\n",
              "\t<tr><th></th><th scope=col>&lt;int&gt;</th><th scope=col>&lt;int&gt;</th></tr>\n",
              "</thead>\n",
              "<tbody>\n",
              "\t<tr><th scope=row>Ahome</th><td>416299</td><td>4342</td></tr>\n",
              "\t<tr><th scope=row>Angostura</th><td> 44993</td><td>1447</td></tr>\n",
              "\t<tr><th scope=row>Badiraguato</th><td> 29999</td><td>5864</td></tr>\n",
              "\t<tr><th scope=row>Concordia</th><td> 28493</td><td>1524</td></tr>\n",
              "\t<tr><th scope=row>Cosalá</th><td> 16697</td><td>2665</td></tr>\n",
              "\t<tr><th scope=row>Culiacán</th><td>858638</td><td>4758</td></tr>\n",
              "\t<tr><th scope=row>Choix</th><td> 32998</td><td>4512</td></tr>\n",
              "\t<tr><th scope=row>Elota</th><td> 42907</td><td>1518</td></tr>\n",
              "\t<tr><th scope=row>Escuinapa</th><td> 54131</td><td>1633</td></tr>\n",
              "\t<tr><th scope=row>El Fuerte</th><td> 97536</td><td>3843</td></tr>\n",
              "\t<tr><th scope=row>Guasave</th><td>285912</td><td>3464</td></tr>\n",
              "\t<tr><th scope=row>Mazatlán</th><td>438434</td><td>3068</td></tr>\n",
              "\t<tr><th scope=row>Mocorito</th><td> 45847</td><td>2566</td></tr>\n",
              "\t<tr><th scope=row>Rosario</th><td> 49380</td><td>2723</td></tr>\n",
              "\t<tr><th scope=row>Salvador Alvarado</th><td> 79085</td><td>1197</td></tr>\n",
              "\t<tr><th scope=row>San Ignacio</th><td> 22527</td><td>4650</td></tr>\n",
              "\t<tr><th scope=row>Sinaloa</th><td> 88282</td><td>6186</td></tr>\n",
              "\t<tr><th scope=row>Navolato</th><td>135603</td><td>2285</td></tr>\n",
              "</tbody>\n",
              "</table>\n"
            ]
          },
          "metadata": {
            "tags": []
          }
        }
      ]
    },
    {
      "cell_type": "code",
      "metadata": {
        "colab": {
          "base_uri": "https://localhost:8080/",
          "height": 128
        },
        "id": "iLWT9ti24XYM",
        "outputId": "567a94d9-06d8-41cc-9fc7-1ea37edf2390"
      },
      "source": [
        "municipios"
      ],
      "execution_count": null,
      "outputs": [
        {
          "output_type": "display_data",
          "data": {
            "text/plain": [
              "        poblacion superficie\n",
              "Sinaloa 88282     6186      "
            ],
            "text/latex": "A data.frame: 1 × 2\n\\begin{tabular}{r|ll}\n  & poblacion & superficie\\\\\n  & <int> & <int>\\\\\n\\hline\n\tSinaloa & 88282 & 6186\\\\\n\\end{tabular}\n",
            "text/markdown": "\nA data.frame: 1 × 2\n\n| <!--/--> | poblacion &lt;int&gt; | superficie &lt;int&gt; |\n|---|---|---|\n| Sinaloa | 88282 | 6186 |\n\n",
            "text/html": [
              "<table class=\"dataframe\">\n",
              "<caption>A data.frame: 1 × 2</caption>\n",
              "<thead>\n",
              "\t<tr><th></th><th scope=col>poblacion</th><th scope=col>superficie</th></tr>\n",
              "\t<tr><th></th><th scope=col>&lt;int&gt;</th><th scope=col>&lt;int&gt;</th></tr>\n",
              "</thead>\n",
              "<tbody>\n",
              "\t<tr><th scope=row>Sinaloa</th><td>88282</td><td>6186</td></tr>\n",
              "</tbody>\n",
              "</table>\n"
            ]
          },
          "metadata": {
            "tags": []
          }
        }
      ]
    },
    {
      "cell_type": "code",
      "metadata": {
        "id": "T3CVSRth4zWn"
      },
      "source": [
        ""
      ],
      "execution_count": null,
      "outputs": []
    },
    {
      "cell_type": "markdown",
      "metadata": {
        "id": "sVUIUC925LFS"
      },
      "source": [
        "# Escritura de datos en un archivo"
      ]
    },
    {
      "cell_type": "code",
      "metadata": {
        "id": "K0M4lYXQ5Rq_"
      },
      "source": [
        "municipios = read.table(\"municipios.csv\", header=T, sep=\",\")"
      ],
      "execution_count": 87,
      "outputs": []
    },
    {
      "cell_type": "code",
      "metadata": {
        "id": "urcBftyeBPmJ"
      },
      "source": [
        "orden = order(municipios$superficie)"
      ],
      "execution_count": 92,
      "outputs": []
    },
    {
      "cell_type": "code",
      "metadata": {
        "id": "LLRx4YRgCgJD"
      },
      "source": [
        ""
      ],
      "execution_count": null,
      "outputs": []
    },
    {
      "cell_type": "code",
      "metadata": {
        "colab": {
          "base_uri": "https://localhost:8080/",
          "height": 655
        },
        "id": "k2A0UhMYBeoS",
        "outputId": "2136b583-7f5a-4a4c-960c-88b9498025c0"
      },
      "source": [
        "municipios[orden, c(\"nombre\", \"superficie\")]"
      ],
      "execution_count": 90,
      "outputs": [
        {
          "output_type": "display_data",
          "data": {
            "text/plain": [
              "   nombre            superficie\n",
              "1  Ahome             4342      \n",
              "2  Angostura         1447      \n",
              "3  Badiraguato       5864      \n",
              "7  Choix             4512      \n",
              "4  Concordia         1524      \n",
              "5  Cosalá            2665      \n",
              "6  Culiacán          4758      \n",
              "10 El Fuerte         3843      \n",
              "8  Elota             1518      \n",
              "9  Escuinapa         1633      \n",
              "11 Guasave           3464      \n",
              "12 Mazatlán          3068      \n",
              "13 Mocorito          2566      \n",
              "18 Navolato          2285      \n",
              "14 Rosario           2723      \n",
              "15 Salvador Alvarado 1197      \n",
              "16 San Ignacio       4650      \n",
              "17 Sinaloa           6186      "
            ],
            "text/latex": "A data.frame: 18 × 2\n\\begin{tabular}{r|ll}\n  & nombre & superficie\\\\\n  & <chr> & <int>\\\\\n\\hline\n\t1 & Ahome             & 4342\\\\\n\t2 & Angostura         & 1447\\\\\n\t3 & Badiraguato       & 5864\\\\\n\t7 & Choix             & 4512\\\\\n\t4 & Concordia         & 1524\\\\\n\t5 & Cosalá            & 2665\\\\\n\t6 & Culiacán          & 4758\\\\\n\t10 & El Fuerte         & 3843\\\\\n\t8 & Elota             & 1518\\\\\n\t9 & Escuinapa         & 1633\\\\\n\t11 & Guasave           & 3464\\\\\n\t12 & Mazatlán          & 3068\\\\\n\t13 & Mocorito          & 2566\\\\\n\t18 & Navolato          & 2285\\\\\n\t14 & Rosario           & 2723\\\\\n\t15 & Salvador Alvarado & 1197\\\\\n\t16 & San Ignacio       & 4650\\\\\n\t17 & Sinaloa           & 6186\\\\\n\\end{tabular}\n",
            "text/markdown": "\nA data.frame: 18 × 2\n\n| <!--/--> | nombre &lt;chr&gt; | superficie &lt;int&gt; |\n|---|---|---|\n| 1 | Ahome             | 4342 |\n| 2 | Angostura         | 1447 |\n| 3 | Badiraguato       | 5864 |\n| 7 | Choix             | 4512 |\n| 4 | Concordia         | 1524 |\n| 5 | Cosalá            | 2665 |\n| 6 | Culiacán          | 4758 |\n| 10 | El Fuerte         | 3843 |\n| 8 | Elota             | 1518 |\n| 9 | Escuinapa         | 1633 |\n| 11 | Guasave           | 3464 |\n| 12 | Mazatlán          | 3068 |\n| 13 | Mocorito          | 2566 |\n| 18 | Navolato          | 2285 |\n| 14 | Rosario           | 2723 |\n| 15 | Salvador Alvarado | 1197 |\n| 16 | San Ignacio       | 4650 |\n| 17 | Sinaloa           | 6186 |\n\n",
            "text/html": [
              "<table class=\"dataframe\">\n",
              "<caption>A data.frame: 18 × 2</caption>\n",
              "<thead>\n",
              "\t<tr><th></th><th scope=col>nombre</th><th scope=col>superficie</th></tr>\n",
              "\t<tr><th></th><th scope=col>&lt;chr&gt;</th><th scope=col>&lt;int&gt;</th></tr>\n",
              "</thead>\n",
              "<tbody>\n",
              "\t<tr><th scope=row>1</th><td>Ahome            </td><td>4342</td></tr>\n",
              "\t<tr><th scope=row>2</th><td>Angostura        </td><td>1447</td></tr>\n",
              "\t<tr><th scope=row>3</th><td>Badiraguato      </td><td>5864</td></tr>\n",
              "\t<tr><th scope=row>7</th><td>Choix            </td><td>4512</td></tr>\n",
              "\t<tr><th scope=row>4</th><td>Concordia        </td><td>1524</td></tr>\n",
              "\t<tr><th scope=row>5</th><td>Cosalá           </td><td>2665</td></tr>\n",
              "\t<tr><th scope=row>6</th><td>Culiacán         </td><td>4758</td></tr>\n",
              "\t<tr><th scope=row>10</th><td>El Fuerte        </td><td>3843</td></tr>\n",
              "\t<tr><th scope=row>8</th><td>Elota            </td><td>1518</td></tr>\n",
              "\t<tr><th scope=row>9</th><td>Escuinapa        </td><td>1633</td></tr>\n",
              "\t<tr><th scope=row>11</th><td>Guasave          </td><td>3464</td></tr>\n",
              "\t<tr><th scope=row>12</th><td>Mazatlán         </td><td>3068</td></tr>\n",
              "\t<tr><th scope=row>13</th><td>Mocorito         </td><td>2566</td></tr>\n",
              "\t<tr><th scope=row>18</th><td>Navolato         </td><td>2285</td></tr>\n",
              "\t<tr><th scope=row>14</th><td>Rosario          </td><td>2723</td></tr>\n",
              "\t<tr><th scope=row>15</th><td>Salvador Alvarado</td><td>1197</td></tr>\n",
              "\t<tr><th scope=row>16</th><td>San Ignacio      </td><td>4650</td></tr>\n",
              "\t<tr><th scope=row>17</th><td>Sinaloa          </td><td>6186</td></tr>\n",
              "</tbody>\n",
              "</table>\n"
            ]
          },
          "metadata": {
            "tags": []
          }
        }
      ]
    },
    {
      "cell_type": "code",
      "metadata": {
        "id": "B5v06uhQCg-1"
      },
      "source": [
        "orden = order(-municipios$superficie)"
      ],
      "execution_count": 93,
      "outputs": []
    },
    {
      "cell_type": "code",
      "metadata": {
        "colab": {
          "base_uri": "https://localhost:8080/",
          "height": 655
        },
        "id": "Sn0NHNhfClJW",
        "outputId": "999b3f06-a5b8-486d-a8d1-7486f98d68bf"
      },
      "source": [
        "municipios[orden, c(\"nombre\", \"superficie\")]"
      ],
      "execution_count": 94,
      "outputs": [
        {
          "output_type": "display_data",
          "data": {
            "text/plain": [
              "   nombre            superficie\n",
              "17 Sinaloa           6186      \n",
              "3  Badiraguato       5864      \n",
              "6  Culiacán          4758      \n",
              "16 San Ignacio       4650      \n",
              "7  Choix             4512      \n",
              "1  Ahome             4342      \n",
              "10 El Fuerte         3843      \n",
              "11 Guasave           3464      \n",
              "12 Mazatlán          3068      \n",
              "14 Rosario           2723      \n",
              "5  Cosalá            2665      \n",
              "13 Mocorito          2566      \n",
              "18 Navolato          2285      \n",
              "9  Escuinapa         1633      \n",
              "4  Concordia         1524      \n",
              "8  Elota             1518      \n",
              "2  Angostura         1447      \n",
              "15 Salvador Alvarado 1197      "
            ],
            "text/latex": "A data.frame: 18 × 2\n\\begin{tabular}{r|ll}\n  & nombre & superficie\\\\\n  & <chr> & <int>\\\\\n\\hline\n\t17 & Sinaloa           & 6186\\\\\n\t3 & Badiraguato       & 5864\\\\\n\t6 & Culiacán          & 4758\\\\\n\t16 & San Ignacio       & 4650\\\\\n\t7 & Choix             & 4512\\\\\n\t1 & Ahome             & 4342\\\\\n\t10 & El Fuerte         & 3843\\\\\n\t11 & Guasave           & 3464\\\\\n\t12 & Mazatlán          & 3068\\\\\n\t14 & Rosario           & 2723\\\\\n\t5 & Cosalá            & 2665\\\\\n\t13 & Mocorito          & 2566\\\\\n\t18 & Navolato          & 2285\\\\\n\t9 & Escuinapa         & 1633\\\\\n\t4 & Concordia         & 1524\\\\\n\t8 & Elota             & 1518\\\\\n\t2 & Angostura         & 1447\\\\\n\t15 & Salvador Alvarado & 1197\\\\\n\\end{tabular}\n",
            "text/markdown": "\nA data.frame: 18 × 2\n\n| <!--/--> | nombre &lt;chr&gt; | superficie &lt;int&gt; |\n|---|---|---|\n| 17 | Sinaloa           | 6186 |\n| 3 | Badiraguato       | 5864 |\n| 6 | Culiacán          | 4758 |\n| 16 | San Ignacio       | 4650 |\n| 7 | Choix             | 4512 |\n| 1 | Ahome             | 4342 |\n| 10 | El Fuerte         | 3843 |\n| 11 | Guasave           | 3464 |\n| 12 | Mazatlán          | 3068 |\n| 14 | Rosario           | 2723 |\n| 5 | Cosalá            | 2665 |\n| 13 | Mocorito          | 2566 |\n| 18 | Navolato          | 2285 |\n| 9 | Escuinapa         | 1633 |\n| 4 | Concordia         | 1524 |\n| 8 | Elota             | 1518 |\n| 2 | Angostura         | 1447 |\n| 15 | Salvador Alvarado | 1197 |\n\n",
            "text/html": [
              "<table class=\"dataframe\">\n",
              "<caption>A data.frame: 18 × 2</caption>\n",
              "<thead>\n",
              "\t<tr><th></th><th scope=col>nombre</th><th scope=col>superficie</th></tr>\n",
              "\t<tr><th></th><th scope=col>&lt;chr&gt;</th><th scope=col>&lt;int&gt;</th></tr>\n",
              "</thead>\n",
              "<tbody>\n",
              "\t<tr><th scope=row>17</th><td>Sinaloa          </td><td>6186</td></tr>\n",
              "\t<tr><th scope=row>3</th><td>Badiraguato      </td><td>5864</td></tr>\n",
              "\t<tr><th scope=row>6</th><td>Culiacán         </td><td>4758</td></tr>\n",
              "\t<tr><th scope=row>16</th><td>San Ignacio      </td><td>4650</td></tr>\n",
              "\t<tr><th scope=row>7</th><td>Choix            </td><td>4512</td></tr>\n",
              "\t<tr><th scope=row>1</th><td>Ahome            </td><td>4342</td></tr>\n",
              "\t<tr><th scope=row>10</th><td>El Fuerte        </td><td>3843</td></tr>\n",
              "\t<tr><th scope=row>11</th><td>Guasave          </td><td>3464</td></tr>\n",
              "\t<tr><th scope=row>12</th><td>Mazatlán         </td><td>3068</td></tr>\n",
              "\t<tr><th scope=row>14</th><td>Rosario          </td><td>2723</td></tr>\n",
              "\t<tr><th scope=row>5</th><td>Cosalá           </td><td>2665</td></tr>\n",
              "\t<tr><th scope=row>13</th><td>Mocorito         </td><td>2566</td></tr>\n",
              "\t<tr><th scope=row>18</th><td>Navolato         </td><td>2285</td></tr>\n",
              "\t<tr><th scope=row>9</th><td>Escuinapa        </td><td>1633</td></tr>\n",
              "\t<tr><th scope=row>4</th><td>Concordia        </td><td>1524</td></tr>\n",
              "\t<tr><th scope=row>8</th><td>Elota            </td><td>1518</td></tr>\n",
              "\t<tr><th scope=row>2</th><td>Angostura        </td><td>1447</td></tr>\n",
              "\t<tr><th scope=row>15</th><td>Salvador Alvarado</td><td>1197</td></tr>\n",
              "</tbody>\n",
              "</table>\n"
            ]
          },
          "metadata": {
            "tags": []
          }
        }
      ]
    }
  ]
}